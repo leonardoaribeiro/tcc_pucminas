{
  "nbformat": 4,
  "nbformat_minor": 0,
  "metadata": {
    "colab": {
      "name": "TCC - PUC Minas - Leonardo de Andrade Ribeiro.ipynb",
      "provenance": [],
      "authorship_tag": "ABX9TyMO3M2dg1XmYPd3cdOMOjMv",
      "include_colab_link": true
    },
    "kernelspec": {
      "name": "python3",
      "display_name": "Python 3"
    },
    "language_info": {
      "name": "python"
    }
  },
  "cells": [
    {
      "cell_type": "markdown",
      "metadata": {
        "id": "view-in-github",
        "colab_type": "text"
      },
      "source": [
        "<a href=\"https://colab.research.google.com/github/leonardoaribeiro/tcc_pucminas/blob/main/TCC_PUC_Minas_Leonardo_de_Andrade_Ribeiro.ipynb\" target=\"_parent\"><img src=\"https://colab.research.google.com/assets/colab-badge.svg\" alt=\"Open In Colab\"/></a>"
      ]
    },
    {
      "cell_type": "markdown",
      "source": [
        "# **TCC PUC MINAS - Leonardo de Andrade Ribeiro**"
      ],
      "metadata": {
        "id": "oPx1-u93PZED"
      }
    },
    {
      "cell_type": "markdown",
      "source": [
        "# **Coleta de Dados**"
      ],
      "metadata": {
        "id": "n_bSkQgXpbD8"
      }
    },
    {
      "cell_type": "code",
      "source": [
        "#Imports\n",
        "import pandas as pd\n",
        "import numpy as np\n",
        "import os"
      ],
      "metadata": {
        "id": "Jg70THpXPdbU"
      },
      "execution_count": null,
      "outputs": []
    },
    {
      "cell_type": "code",
      "source": [
        "#Importar drive google.colab\n",
        "from google.colab import drive\n",
        "drive.mount('/content/drive/')\n",
        "\n",
        "#Alterar diretório para pasta TCC_PUC\n",
        "os.chdir('drive/My Drive/TCC_PUC')"
      ],
      "metadata": {
        "id": "9Veoq9XoPjNM"
      },
      "execution_count": null,
      "outputs": []
    },
    {
      "cell_type": "code",
      "source": [
        "#Ler arquivo base de dados\n",
        "df = pd.read_csv(\"BRFSS_2015.csv\")\n",
        "df.shape"
      ],
      "metadata": {
        "id": "zFqWw_x7QG0U"
      },
      "execution_count": null,
      "outputs": []
    },
    {
      "cell_type": "code",
      "source": [
        "#Verificar arquivo\n",
        "pd.set_option('display.max_columns', 500)\n",
        "df.head()"
      ],
      "metadata": {
        "id": "S0jXF7ybQWrW"
      },
      "execution_count": null,
      "outputs": []
    },
    {
      "cell_type": "markdown",
      "source": [
        "\n",
        "O data set está com 441.456 linhas e 330 colunas. Cada linha é referente a uma entrevista realizada e cada coluna se refere a um atributo.\n",
        "Será feita uma análise nos dados baseado nos grupo e excluídos aqueles que não são úteis para o propósito do sistema"
      ],
      "metadata": {
        "id": "Hrx5LkQtT-1K"
      }
    },
    {
      "cell_type": "markdown",
      "source": [
        "# **Processamento/Tratamento de Dados**"
      ],
      "metadata": {
        "id": "k3sjLk-brNgD"
      }
    },
    {
      "cell_type": "code",
      "source": [
        "#Exclusão do grupo Identificação de Registro\n",
        "df_tratado = df.drop(columns=['_STATE','FMONTH','IDATE','IMONTH','IDAY',\n",
        "                              'IYEAR','DISPCODE','SEQNO','_PSU'])\n",
        "#Exclusão do grupo Introdução - Telefone Fixo\n",
        "df_tratado = df_tratado.drop(columns=['CTELENUM','PVTRESD1','COLGHOUS','STATERES',\n",
        "                                      'CELLFON3','LADULT','NUMADULT','NUMMEN','NUMWOMEN'])\n",
        "#Exclusão do grupo Introdução - Telefone Celular\n",
        "df_tratado = df_tratado.drop(columns=['CTELNUM1','CELLFON2','CADULT','PVTRESD2','CCLGHOUS',\n",
        "                                      'CSTATE','LANDLINE','HHADULT'])\n",
        "#Exclusão do grupo Conscientização da hipertensão\n",
        "df_tratado = df_tratado.drop(columns=['BPMEDS'])\n",
        "\n",
        "df_tratado.shape"
      ],
      "metadata": {
        "id": "m9oLf8XJQZet"
      },
      "execution_count": null,
      "outputs": []
    },
    {
      "cell_type": "code",
      "source": [
        "#Exclusão do grupo Demografia\n",
        "df_tratado = df_tratado.drop(columns=['MARITAL','EDUCA','RENTHOM1','NUMHHOL2',\n",
        "                                      'NUMPHON2','CPDEMO1','VETERAN3',\n",
        "                                      'EMPLOY1','CHILDREN','INCOME2','INTERNET','PREGNANT',\n",
        "                                      'QLACTLM2','USEEQUIP','BLIND','DECIDE','DIFFWALK','DIFFDRES'])\n",
        "#Exclusão do grupo Uso do Cinto de Segurança\n",
        "df_tratado = df_tratado.drop(columns=['SEATBELT'])\n",
        "#Exclusão do grupo Imunização\n",
        "df_tratado = df_tratado.drop(columns=['FLUSHOT6','FLSHTMY2','IMFVPLAC','PNEUVAC3'])\n",
        "#Exclusão do grupo HIV/AIDS\n",
        "df_tratado = df_tratado.drop(columns=['HIVTST6','HIVTSTD3','WHRTST10'])\n",
        "df_tratado.shape"
      ],
      "metadata": {
        "id": "LJ9j2ZLLrl0l"
      },
      "execution_count": null,
      "outputs": []
    },
    {
      "cell_type": "code",
      "source": [
        "#Exclusão do grupo Pré-Diabetes\n",
        "df_tratado = df_tratado.drop(columns=['PDIABTST','PREDIAB1'])\n",
        "#Exclusão do grupo Cuidador(a)\n",
        "df_tratado = df_tratado.drop(columns=['CAREGIV1','CRGVREL1','CRGVLNG1','CRGVHRS1','CRGVPRB1',\n",
        "                                      'CRGVPERS','CRGVHOUS','CRGVMST2','CRGVEXPT'])\n",
        "#Exclusão do grupo Deficiência Visual e Acesso a Cuidados Oftalmológicos\n",
        "df_tratado = df_tratado.drop(columns=['VIDFCLT2','VIREDIF3','VIPRFVS2','VINOCRE2','VIEYEXM2',\n",
        "                                      'VIINSUR2','VICTRCT4','VIGLUMA2','VIMACDG2'])\n",
        "#Exclusão do grupo História de Asma em Adultos\n",
        "df_tratado = df_tratado.drop(columns=['ASTHMAGE','ASATTACK','ASERVIST','ASDRVIST','ASRCHKUP',\n",
        "                                      'ASACTLIM','ASYMPTOM','ASNOSLEP','ASTHMED3','ASINHALR'])\n",
        "df_tratado.shape"
      ],
      "metadata": {
        "id": "me7qedjBsoHa"
      },
      "execution_count": null,
      "outputs": []
    },
    {
      "cell_type": "code",
      "source": [
        "#Exclusão do grupo Gerenciamento de artrite\n",
        "df_tratado = df_tratado.drop(columns=['ARTTODAY','ARTHWGT','ARTHEXER','ARTHEDU'])\n",
        "#Exclusão do grupo Difteria do Tétano (TDAP) (adultos)\n",
        "df_tratado = df_tratado.drop(columns=['TETANUS'])\n",
        "#Exclusão do grupo Papilomavírus Humano Adulto (HPV) - Vacinação\n",
        "df_tratado = df_tratado.drop(columns=['HPVADVC2','HPVADSHT'])\n",
        "#Exclusão do grupo Herpes Zoster\n",
        "df_tratado = df_tratado.drop(columns=['SHINGLE2'])\n",
        "df_tratado.shape"
      ],
      "metadata": {
        "id": "IbTSg7TksuXz"
      },
      "execution_count": null,
      "outputs": []
    },
    {
      "cell_type": "code",
      "source": [
        "#Exclusão do grupo Triagem de Câncer de Mama e Colo do Útero\n",
        "df_tratado = df_tratado.drop(columns=['HADMAM','HOWLONG','HADPAP2','LASTPAP2',\n",
        "                                      'HPVTEST','HPLSTTST','HADHYST2'])\n",
        "#Exclusão do grupo Exame Clínico da Mama para Rastreamento do Câncer de Mama\n",
        "df_tratado = df_tratado.drop(columns=['PROFEXAM','LENGEXAM'])\n",
        "#Exclusão do grupo Triagem do Câncer Colorretal\n",
        "df_tratado = df_tratado.drop(columns=['BLDSTOOL','LSTBLDS3','HADSIGM3','HADSGCO1',\n",
        "                                      'LASTSIG3'])\n",
        "#Exclusão do grupo Triagem de Câncer de Próstata\n",
        "df_tratado = df_tratado.drop(columns=['PCPSAAD2','PCPSADI1','PCPSARE1',\n",
        "                                      'PSATEST1','PSATIME','PCPSARS1'])\n",
        "df_tratado.shape"
      ],
      "metadata": {
        "id": "bxXj_AokRjt4"
      },
      "execution_count": null,
      "outputs": []
    },
    {
      "cell_type": "code",
      "source": [
        "#Exclusão do grupo Tomada de Decisão Sobre o Rastreamento do Câncer de Próstata\n",
        "df_tratado = df_tratado.drop(columns=['PCPSADE1','PCDMDECN'])\n",
        "#Exclusão do grupo Orientação Sexual e Identidade de Gênero\n",
        "df_tratado = df_tratado.drop(columns=['SXORIENT','TRNSGNDR'])\n",
        "#Exclusão do grupo Seleção Aleatória de Filhos\n",
        "df_tratado = df_tratado.drop(columns=['RCSGENDR','RCSRLTN2'])\n",
        "#Exclusão do grupo Prevalência de Asma na Infância\n",
        "df_tratado = df_tratado.drop(columns=['CASTHDX2','CASTHNO2'])\n",
        "#Exclusão do grupo Versão do Questionário\n",
        "df_tratado = df_tratado.drop(columns=['QSTVER'])\n",
        "df_tratado.shape"
      ],
      "metadata": {
        "id": "rCnnFSras2Hp"
      },
      "execution_count": null,
      "outputs": []
    },
    {
      "cell_type": "code",
      "source": [
        "#Exclusão do grupo Idioma do Questionário\n",
        "df_tratado = df_tratado.drop(columns=['QSTLANG'])\n",
        "#Exclusão do grupo Variáveis de Ponderação\n",
        "df_tratado = df_tratado.drop(columns=['MSCODE','_STSTR','_STRWT','_RAWRAKE','_WT2RAKE'])\n",
        "#Exclusão do grupo Variáveis demográficas filhas\n",
        "df_tratado = df_tratado.drop(columns=['_CHISPNC','_CRACE1','_CPRACE','_CLLCPWT'])\n",
        "#Exclusão do grupo Variáveis de Ponderação\n",
        "df_tratado = df_tratado.drop(columns=['_DUALUSE','_DUALCOR','_LLCPWT'])\n",
        "#Exclusão do grupo Variáveis de Raça Calculadas\n",
        "df_tratado = df_tratado.drop(columns=['_PRACE1','_MRACE1','_HISPANC','_RACE','_RACEG21',\n",
        "                                      '_RACEGR3','_RACE_G1'])\n",
        "df_tratado.shape"
      ],
      "metadata": {
        "id": "iHXYem9ns5EI"
      },
      "execution_count": null,
      "outputs": []
    },
    {
      "cell_type": "code",
      "source": [
        "#Avaliar e redefir variáveis do Grupo Estado de saúde\n",
        "#Valores 4 e 5, saúde ruim -> 0\n",
        "#Valores 1, 2 e 3, saúde boa -> 1\n",
        "#Outros valores descartados\n",
        "df_tratado['GENHLTH'] = df_tratado['GENHLTH'].replace({2:1, 3:1})\n",
        "df_tratado['GENHLTH'] = df_tratado['GENHLTH'].replace({4:0, 5:0})\n",
        "df_tratado = df_tratado[df_tratado.GENHLTH != 7]\n",
        "df_tratado = df_tratado[df_tratado.GENHLTH != 9]\n",
        "\n",
        "#Renomeado campo para facilitar compreensão\n",
        "df_tratado = df_tratado.rename(columns = {'GENHLTH':'EstadoSaude'}) "
      ],
      "metadata": {
        "id": "TthzuYHQhTgL"
      },
      "execution_count": null,
      "outputs": []
    },
    {
      "cell_type": "code",
      "source": [
        "df_tratado['EstadoSaude'].unique()"
      ],
      "metadata": {
        "id": "VCdBCXEBiH_k"
      },
      "execution_count": null,
      "outputs": []
    },
    {
      "cell_type": "code",
      "source": [
        "#Avaliar e redefir variáveis do Grupo Dias Saudáveis ​​- Qualidade de Vida Relacionada à Saúde\n",
        "#Valores maior ou igual a 15 saúde ruim -> 0\n",
        "#Valores menor que 15 e 88 saúde boa -> 1\n",
        "#Outros valores descartados\n",
        "df_tratado['PHYSHLTH'] = df_tratado['PHYSHLTH'].replace({15:0, 16:0, 17:0, 18:0, 19:0, 20:0, \n",
        "                                                         21:0, 22:0, 23:0, 24:0, 25:0, 26:0, \n",
        "                                                         27:0, 28:0, 29:0, 30:0, 31:0})\n",
        "df_tratado['PHYSHLTH'] = df_tratado['PHYSHLTH'].replace({2:1, 3:1, 4:1, 5:1, 6:1, 7:1, 8:1, \n",
        "                                                         9:1, 10:1, 11:1, 12:1, 13:1, 14:1, 88:1})\n",
        "df_tratado = df_tratado[df_tratado.PHYSHLTH != 77]\n",
        "df_tratado = df_tratado[df_tratado.PHYSHLTH != 99]\n",
        "\n",
        "df_tratado['MENTHLTH'] = df_tratado['MENTHLTH'].replace({15:0, 16:0, 17:0, 18:0, 19:0, 20:0, \n",
        "                                                         21:0, 22:0, 23:0, 24:0, 25:0, 26:0,\n",
        "                                                         27:0, 28:0, 29:0, 30:0, 31:0})\n",
        "df_tratado['MENTHLTH'] = df_tratado['MENTHLTH'].replace({2:1, 3:1, 4:1, 5:1, 6:1, 7:1, 8:1,\n",
        "                                                         9:1, 10:1, 11:1, 12:1, 13:1, 14:1, 88:1})\n",
        "df_tratado = df_tratado[df_tratado.MENTHLTH != 77]\n",
        "df_tratado = df_tratado[df_tratado.MENTHLTH != 99]\n",
        "\n",
        "#removido campo POORHLTH\n",
        "df_tratado = df_tratado.drop(columns=['POORHLTH'])\n",
        "\n",
        "#Renomeado campos para facilitar compreensão\n",
        "df_tratado = df_tratado.rename(columns = {'PHYSHLTH':'SaudeFisica', 'MENTHLTH':'SaudeMental'}) "
      ],
      "metadata": {
        "id": "MQBw_zQzhu4Q"
      },
      "execution_count": null,
      "outputs": []
    },
    {
      "cell_type": "code",
      "source": [
        "df_tratado['SaudeFisica'].unique()"
      ],
      "metadata": {
        "id": "t5gNFPwoiYOX"
      },
      "execution_count": null,
      "outputs": []
    },
    {
      "cell_type": "code",
      "source": [
        "df_tratado['SaudeMental'].unique()"
      ],
      "metadata": {
        "id": "DWb2xuURiYbE"
      },
      "execution_count": null,
      "outputs": []
    },
    {
      "cell_type": "code",
      "source": [
        "#Avaliar e redefir variáveis do Grupo Acesso aos cuidados de saúde\n",
        "#Removido campos HLTHPLN1, PERSDOC2, MEDCOST e CHECKUP1\n",
        "df_tratado = df_tratado.drop(columns=['HLTHPLN1','PERSDOC2','MEDCOST','CHECKUP1'])\n",
        "\n",
        "#Limpeza do campo BPHIGH4\n",
        "df_tratado['BPHIGH4'] = df_tratado['BPHIGH4'].replace({2:0, 3:0, 4:0})\n",
        "df_tratado = df_tratado[df_tratado.BPHIGH4 != 7]\n",
        "df_tratado = df_tratado[df_tratado.BPHIGH4 != 9]\n",
        "\n",
        "#Renomeado campo para facilitar compreensão\n",
        "df_tratado = df_tratado.rename(columns = {'BPHIGH4':'PressaoAlta'}) \n"
      ],
      "metadata": {
        "id": "ka6fjpeghvGQ"
      },
      "execution_count": null,
      "outputs": []
    },
    {
      "cell_type": "code",
      "source": [
        "df_tratado['PressaoAlta'].unique()"
      ],
      "metadata": {
        "id": "LdKWOcSjlj-6"
      },
      "execution_count": null,
      "outputs": []
    },
    {
      "cell_type": "code",
      "source": [
        "#Avaliar e redefir variáveis do Grupo Conscientização sobre o colesterol\n",
        "#Removido campos BLOODCHO e CHOLCHK\n",
        "df_tratado = df_tratado.drop(columns=['BLOODCHO','CHOLCHK'])\n",
        "\n",
        "#Limpeza do campo BPHIGH4\n",
        "df_tratado['TOLDHI2'] = df_tratado['TOLDHI2'].replace({2:0})\n",
        "df_tratado = df_tratado[df_tratado.TOLDHI2 != 7]\n",
        "df_tratado = df_tratado[df_tratado.TOLDHI2 != 9]\n",
        "\n",
        "#Renomeado campo para facilitar compreensão\n",
        "df_tratado = df_tratado.rename(columns = {'TOLDHI2':'ColesterolAlto'}) \n"
      ],
      "metadata": {
        "id": "J-GdWXvqqP4v"
      },
      "execution_count": null,
      "outputs": []
    },
    {
      "cell_type": "code",
      "source": [
        "df_tratado['ColesterolAlto'].unique()"
      ],
      "metadata": {
        "id": "zxP7Gm9QmBdI"
      },
      "execution_count": null,
      "outputs": []
    },
    {
      "cell_type": "code",
      "source": [
        "#Avaliar e redefir variáveis do Grupo Condições Crônicas de Saúde\n",
        "#Removido campos CVDINFR4, CVDCRHD4, CVDSTRK3, ASTHMA3 e DIABAGE2\n",
        "df_tratado = df_tratado.drop(columns=['CVDINFR4','CVDCRHD4','CVDSTRK3','ASTHMA3','DIABAGE2'])\n",
        "\n",
        "#Utilizada variável calculada _MICHD para determinar a ocorrência de DCV\n",
        "#Limpeza do campo _MICHD: 0 - Não, 1 - Sim\n",
        "df_tratado['_MICHD'] = df_tratado['_MICHD'].replace({2:0})\n",
        "\n",
        "#Renomeado campo para facilitar compreensão\n",
        "df_tratado = df_tratado.rename(columns = {'_MICHD':'DoencaCardiovascular'}) "
      ],
      "metadata": {
        "id": "0l0J9qjLrzCK"
      },
      "execution_count": null,
      "outputs": []
    },
    {
      "cell_type": "code",
      "source": [
        "df_tratado['DoencaCardiovascular'].unique()"
      ],
      "metadata": {
        "id": "v2i7VZFvr9hR"
      },
      "execution_count": null,
      "outputs": []
    },
    {
      "cell_type": "code",
      "source": [
        "#Limpeza do campo ASTHNOW: 0 - Não , 1 - Sim\n",
        "df_tratado['ASTHNOW'] = df_tratado['ASTHNOW'].replace({2:0})\n",
        "df_tratado = df_tratado[df_tratado.ASTHNOW != 7]\n",
        "df_tratado = df_tratado[df_tratado.ASTHNOW != 9]\n",
        "\n",
        "#Limpeza do campo CHCSCNCR: 0 - Não , 1 - Sim\n",
        "df_tratado['CHCSCNCR'] = df_tratado['CHCSCNCR'].replace({2:0})\n",
        "df_tratado = df_tratado[df_tratado.CHCSCNCR != 7]\n",
        "df_tratado = df_tratado[df_tratado.CHCSCNCR != 9]\n",
        "\n",
        "#Limpeza do campo CHCOCNCR: 0 - Não , 1 - Sim\n",
        "df_tratado['CHCOCNCR'] = df_tratado['CHCOCNCR'].replace({2:0})\n",
        "df_tratado = df_tratado[df_tratado.CHCOCNCR != 7]\n",
        "df_tratado = df_tratado[df_tratado.CHCOCNCR != 9]\n",
        "\n",
        "#Limpeza do campo CHCCOPD1: 0 - Não , 1 - Sim\n",
        "df_tratado['CHCCOPD1'] = df_tratado['CHCCOPD1'].replace({2:0})\n",
        "df_tratado = df_tratado[df_tratado.CHCCOPD1 != 7]\n",
        "df_tratado = df_tratado[df_tratado.CHCCOPD1 != 9]\n",
        "\n",
        "#Renomeado campo para facilitar compreensão\n",
        "df_tratado = df_tratado.rename(columns = {'ASTHNOW':'Asma', 'CHCSCNCR':'CancerPele', \n",
        "                                          'CHCOCNCR':'CancerOutros', 'CHCCOPD1':'DoencaPulmonar'}) "
      ],
      "metadata": {
        "id": "4HobYAL63NQN"
      },
      "execution_count": null,
      "outputs": []
    },
    {
      "cell_type": "code",
      "source": [
        "df_tratado['Asma'].unique()"
      ],
      "metadata": {
        "id": "_7r0NJoAvc6N"
      },
      "execution_count": null,
      "outputs": []
    },
    {
      "cell_type": "code",
      "source": [
        "df_tratado['CancerPele'].unique()"
      ],
      "metadata": {
        "id": "Bu05QeFIvdNQ"
      },
      "execution_count": null,
      "outputs": []
    },
    {
      "cell_type": "code",
      "source": [
        "df_tratado['CancerOutros'].unique()"
      ],
      "metadata": {
        "id": "DSwxMuOuvdac"
      },
      "execution_count": null,
      "outputs": []
    },
    {
      "cell_type": "code",
      "source": [
        "df_tratado['DoencaPulmonar'].unique()"
      ],
      "metadata": {
        "id": "iUg8OqjKvdnR"
      },
      "execution_count": null,
      "outputs": []
    },
    {
      "cell_type": "code",
      "source": [
        "#Limpeza do campo HAVARTH3: 0 - Não , 1 - Sim\n",
        "df_tratado['HAVARTH3'] = df_tratado['HAVARTH3'].replace({2:0})\n",
        "df_tratado = df_tratado[df_tratado.HAVARTH3 != 7]\n",
        "df_tratado = df_tratado[df_tratado.HAVARTH3 != 9]\n",
        "\n",
        "#Limpeza do campo ADDEPEV2: 0 - Não , 1 - Sim\n",
        "df_tratado['ADDEPEV2'] = df_tratado['ADDEPEV2'].replace({2:0})\n",
        "df_tratado = df_tratado[df_tratado.ADDEPEV2 != 7]\n",
        "df_tratado = df_tratado[df_tratado.ADDEPEV2 != 9]\n",
        "\n",
        "#Limpeza do campo CHCKIDNY: 0 - Não , 1 - Sim\n",
        "df_tratado['CHCKIDNY'] = df_tratado['CHCKIDNY'].replace({2:0})\n",
        "df_tratado = df_tratado[df_tratado.CHCKIDNY != 7]\n",
        "df_tratado = df_tratado[df_tratado.CHCKIDNY != 9]\n",
        "\n",
        "#Limpeza do campo DIABETE3: 0 - Não , 1 - Sim\n",
        "df_tratado['DIABETE3'] = df_tratado['DIABETE3'].replace({2:0})\n",
        "df_tratado['DIABETE3'] = df_tratado['DIABETE3'].replace({3:0})\n",
        "df_tratado['DIABETE3'] = df_tratado['DIABETE3'].replace({4:0})\n",
        "df_tratado = df_tratado[df_tratado.DIABETE3 != 7]\n",
        "df_tratado = df_tratado[df_tratado.DIABETE3 != 9]\n",
        "\n",
        "#Renomeado campo para facilitar compreensão\n",
        "df_tratado = df_tratado.rename(columns = {'HAVARTH3':'Artrite', 'ADDEPEV2':'Depressao', \n",
        "                                          'CHCKIDNY':'DoencaRenal', 'DIABETE3':'Diabetes'}) "
      ],
      "metadata": {
        "id": "BoRqW6XZ7kVo"
      },
      "execution_count": null,
      "outputs": []
    },
    {
      "cell_type": "code",
      "source": [
        "df_tratado['Artrite'].unique()"
      ],
      "metadata": {
        "id": "3Q4efYQqwBaN"
      },
      "execution_count": null,
      "outputs": []
    },
    {
      "cell_type": "code",
      "source": [
        "df_tratado['Depressao'].unique()"
      ],
      "metadata": {
        "id": "VxPKx6w1wBkG"
      },
      "execution_count": null,
      "outputs": []
    },
    {
      "cell_type": "code",
      "source": [
        "df_tratado['DoencaRenal'].unique()"
      ],
      "metadata": {
        "id": "RQo8Jy9RwBu4"
      },
      "execution_count": null,
      "outputs": []
    },
    {
      "cell_type": "code",
      "source": [
        "df_tratado['Diabetes'].unique()"
      ],
      "metadata": {
        "id": "Aznx_UNrwB4i"
      },
      "execution_count": null,
      "outputs": []
    },
    {
      "cell_type": "code",
      "source": [
        "#Avaliar e redefir variáveis do Grupo Demografia\n",
        "\n",
        "#Limpeza do campo WEIGHT2\n",
        "for i in range (0,1000,1):\n",
        "    p = i * 0.45\n",
        "    df_tratado['WEIGHT2'] = df_tratado['WEIGHT2'].replace({i:p})  \n",
        "    \n",
        "for i in range (9000,9999,1):\n",
        "    p = i - 9000;\n",
        "    df_tratado['WEIGHT2'] = df_tratado['WEIGHT2'].replace({i:p})  \n",
        "    \n",
        "df_tratado = df_tratado[df_tratado.WEIGHT2 != 7777]\n",
        "df_tratado = df_tratado[df_tratado.WEIGHT2 != 9999]    \n",
        "\n",
        "#Limpeza do campo HEIGHT3\n",
        "for i in range (200,712,1):\n",
        "    p = (i * 0.31)/100;\n",
        "    df_tratado['HEIGHT3'] = df_tratado['HEIGHT3'].replace({i:p})  \n",
        "    \n",
        "for i in range (9000,9999,1):\n",
        "    h = (i - 9000)/100;\n",
        "    df_tratado['HEIGHT3'] = df_tratado['HEIGHT3'].replace({i:h})  \n",
        "    \n",
        "df_tratado = df_tratado[df_tratado.HEIGHT3 != 7777]\n",
        "df_tratado = df_tratado[df_tratado.HEIGHT3 != 9999]\n",
        "\n",
        "#Renomeado campo para facilitar compreensão\n",
        "df_tratado = df_tratado.rename(columns = {'SEX':'Sexo', 'WEIGHT2':'Peso', \n",
        "                                          'HEIGHT3':'Altura'})\n"
      ],
      "metadata": {
        "id": "-4Fb0MAvuKQZ"
      },
      "execution_count": null,
      "outputs": []
    },
    {
      "cell_type": "code",
      "source": [
        "df_tratado['Sexo'].unique()"
      ],
      "metadata": {
        "id": "cKNO8DLu2Gj-"
      },
      "execution_count": null,
      "outputs": []
    },
    {
      "cell_type": "code",
      "source": [
        "df_tratado['Peso'].describe()"
      ],
      "metadata": {
        "id": "S7ijnZbY2Gs4"
      },
      "execution_count": null,
      "outputs": []
    },
    {
      "cell_type": "code",
      "source": [
        "df_tratado['Altura'].describe()"
      ],
      "metadata": {
        "id": "BfJaDa_c2KSH"
      },
      "execution_count": null,
      "outputs": []
    },
    {
      "cell_type": "code",
      "source": [
        "#Avaliar e redefir variáveis do Grupo Uso de Tabaco\n",
        "#Removido campos DIFFALON, SMOKE100, STOPSMK2, LASTSMK2, USENOW3\n",
        "df_tratado = df_tratado.drop(columns=['DIFFALON','SMOKE100','SMOKDAY2',\n",
        "                                      'STOPSMK2','LASTSMK2','USENOW3'])\n",
        "\n",
        "#Utilizado variável calculada _SMOKER3\n",
        "#Limpeza do campo _SMOKER3: 0 - Não , 1 - Sim\n",
        "df_tratado['_SMOKER3'] = df_tratado['_SMOKER3'].replace({2:1})\n",
        "df_tratado['_SMOKER3'] = df_tratado['_SMOKER3'].replace({3:2})\n",
        "df_tratado['_SMOKER3'] = df_tratado['_SMOKER3'].replace({4:0})\n",
        "df_tratado = df_tratado[df_tratado._SMOKER3 != 9]\n",
        "\n",
        "#Renomeado campo para facilitar compreensão\n",
        "df_tratado = df_tratado.rename(columns = {'_SMOKER3':'Fumante'}) "
      ],
      "metadata": {
        "id": "O9RJE0IxvHep"
      },
      "execution_count": null,
      "outputs": []
    },
    {
      "cell_type": "code",
      "source": [
        "df_tratado['Fumante'].unique()"
      ],
      "metadata": {
        "id": "0QBxvD6b5-7W"
      },
      "execution_count": null,
      "outputs": []
    },
    {
      "cell_type": "code",
      "source": [
        "#Avaliar e redefir variáveis do Grupo Consumo de Alcool\n",
        "#Removido campos ALCDAY5, AVEDRNK2, DRNK3GE5, MAXDRNKS\n",
        "df_tratado = df_tratado.drop(columns=['ALCDAY5','AVEDRNK2','DRNK3GE5','MAXDRNKS'])\n",
        "\n",
        "#Utilizado variável calculada _RFDRHV5\n",
        "#Limpeza do campo _RFDRHV5: 0 - Não , 1 - Sim\n",
        "df_tratado['_RFDRHV5'] = df_tratado['_RFDRHV5'].replace({1:0})\n",
        "df_tratado['_RFDRHV5'] = df_tratado['_RFDRHV5'].replace({2:1})\n",
        "df_tratado = df_tratado[df_tratado._RFDRHV5 != 9]\n",
        "\n",
        "#Renomeado campo para facilitar compreensão\n",
        "df_tratado = df_tratado.rename(columns = {'_RFDRHV5':'ConsomeAlcool'}) "
      ],
      "metadata": {
        "id": "u7xGTy64Yklx"
      },
      "execution_count": null,
      "outputs": []
    },
    {
      "cell_type": "code",
      "source": [
        "df_tratado['ConsomeAlcool'].unique()"
      ],
      "metadata": {
        "id": "PQxRRsIlNQOE"
      },
      "execution_count": null,
      "outputs": []
    },
    {
      "cell_type": "code",
      "source": [
        "#Avaliar e redefir variáveis do Grupo Frutas e Vegetais\n",
        "#Removido campos FRUITJU1, FRUIT1, FVBEANS, FVGREEN, FVORANG, VEGETAB1\n",
        "df_tratado = df_tratado.drop(columns=['FRUITJU1', 'FRUIT1', 'FVBEANS', \n",
        "                                      'FVGREEN', 'FVORANG', 'VEGETAB1'])\n",
        "\n",
        "#Limpeza dos campos _FRTLT1 e _VEGLT1\n",
        "df_tratado['_FRTLT1'] = df_tratado['_FRTLT1'].replace({2:0})\n",
        "df_tratado = df_tratado[df_tratado._FRTLT1 != 9]\n",
        "df_tratado['_VEGLT1'] = df_tratado['_VEGLT1'].replace({2:0})\n",
        "df_tratado = df_tratado[df_tratado._VEGLT1 != 9]\n",
        "\n",
        "#Criado coluna FrutaseVegetais e utilizado variáveis calculadas _FRTLT1 e _VEGLT1 para popular\n",
        "df_tratado['FrutaseVegetais'] = \"\"\n",
        "condicao = [ (df_tratado['_FRTLT1'] == 1) | (df_tratado['_VEGLT1'] == 1)]\n",
        "valor = [1]\n",
        "df_tratado['FrutaseVegetais'] = np.select(condicao, valor, default=0)\n",
        "\n",
        "#Removido campos _FRTLT1, _VEGLT1\n",
        "df_tratado = df_tratado.drop(columns=['_FRTLT1', '_VEGLT1'])\n"
      ],
      "metadata": {
        "id": "elz743flXbOv"
      },
      "execution_count": null,
      "outputs": []
    },
    {
      "cell_type": "code",
      "source": [
        "df_tratado['FrutaseVegetais'].unique()"
      ],
      "metadata": {
        "id": "UVkikiWKAtVR"
      },
      "execution_count": null,
      "outputs": []
    },
    {
      "cell_type": "code",
      "source": [
        "#Avaliar e redefir variáveis do Grupo Exercício (Atividade Física)\n",
        "\n",
        "#Removido campo EXERANY2, EXRACT11, EXEROFT1, EXERHMM1, \n",
        "#               EXRACT21, EXEROFT2, EXERHMM2 e STRENGTH\n",
        "df_tratado = df_tratado.drop(columns=['EXERANY2','EXRACT11','EXEROFT1','EXERHMM1',\n",
        "                                      'EXRACT21','EXEROFT2','EXERHMM2', 'STRENGTH'])\n",
        "\n",
        "#Utilizado variável calculada _PAREC1 para definição de prática de exerxício físico\n",
        "#Limpeza do campo _PAREC1: 0 - Não , 1 - Sim\n",
        "df_tratado['_PAREC1'] = df_tratado['_PAREC1'].replace({2:1})\n",
        "df_tratado['_PAREC1'] = df_tratado['_PAREC1'].replace({3:1})\n",
        "df_tratado['_PAREC1'] = df_tratado['_PAREC1'].replace({4:0})\n",
        "df_tratado = df_tratado[df_tratado._PAREC1 != 9]\n",
        "\n",
        "#Renomeado campo para facilitar compreensão\n",
        "df_tratado = df_tratado.rename(columns = {'_PAREC1':'ExercicioFisico'}) "
      ],
      "metadata": {
        "id": "6POiYAnTDGbB"
      },
      "execution_count": null,
      "outputs": []
    },
    {
      "cell_type": "code",
      "source": [
        "df_tratado['ExercicioFisico'].unique()"
      ],
      "metadata": {
        "id": "wxFKEwHTDPbf"
      },
      "execution_count": null,
      "outputs": []
    },
    {
      "cell_type": "code",
      "source": [
        "#Exclusão do grupo Carga de Artrite\n",
        "df_tratado = df_tratado.drop(columns=['LMTJOIN3','ARTHDIS2','ARTHSOCL','JOINPAIN'])\n",
        "\n",
        "#Exclusão do grupo Diabetes\n",
        "df_tratado = df_tratado.drop(columns=['INSULIN','BLDSUGAR','FEETCHK2','DOCTDIAB',\n",
        "                                      'CHKHEMO3','FEETCHK','EYEEXAM','DIABEYE','DIABEDU'])\n",
        "\n",
        "#Exclusão do grupo Dias Saudáveis (Sintomas)\n",
        "df_tratado = df_tratado.drop(columns=['PAINACT2','QLMENTL2','QLSTRES2','QLHLTH2'])"
      ],
      "metadata": {
        "id": "q4NAm1DiETIu"
      },
      "execution_count": null,
      "outputs": []
    },
    {
      "cell_type": "code",
      "source": [
        "#Avaliar e redefir variáveis do Grupo Declínio Cognitivo\n",
        "#Removido campo CDHOUSE, CDASSIST, CDHELP, CDSOCIAL, CDDISCUS\n",
        "df_tratado = df_tratado.drop(columns=['CDHOUSE','CDASSIST','CDHELP',\n",
        "                                      'CDSOCIAL','CDDISCUS'])\n",
        "\n",
        "#Limpeza do campo CIMEMLOS: 0 - Não , 1 - Sim\n",
        "df_tratado['CIMEMLOS'] = df_tratado['CIMEMLOS'].replace({2:0})\n",
        "df_tratado = df_tratado[df_tratado.CIMEMLOS != 7]\n",
        "df_tratado = df_tratado[df_tratado.CIMEMLOS != 9]\n",
        "\n",
        "#Renomeado campo para facilitar compreensão\n",
        "df_tratado = df_tratado.rename(columns = {'CIMEMLOS':'DeclinioCognitivo'}) "
      ],
      "metadata": {
        "id": "_4et6TBAE_14"
      },
      "execution_count": null,
      "outputs": []
    },
    {
      "cell_type": "code",
      "source": [
        "df_tratado['DeclinioCognitivo'].unique()"
      ],
      "metadata": {
        "id": "gDzltQVwJwd5"
      },
      "execution_count": null,
      "outputs": []
    },
    {
      "cell_type": "code",
      "source": [
        "#Avaliar e redefir variáveis do Grupo Comportamento Relacionado ao Sódio ou Sal\n",
        "#Removido campo WTCHSALT, LONGWTCH\n",
        "df_tratado = df_tratado.drop(columns=['WTCHSALT','LONGWTCH'])\n",
        "\n",
        "#Limpeza do campo DRADVISE: 0 - Não , 1 - Sim\n",
        "df_tratado['DRADVISE'] = df_tratado['DRADVISE'].replace({2:0})\n",
        "df_tratado = df_tratado[df_tratado.DRADVISE != 7]\n",
        "df_tratado = df_tratado[df_tratado.DRADVISE != 9]\n",
        "\n",
        "#Renomeado campo para facilitar compreensão\n",
        "df_tratado = df_tratado.rename(columns = {'DRADVISE':'ConsumoSalExcesso'}) "
      ],
      "metadata": {
        "id": "h7X6kJ5FIPY_"
      },
      "execution_count": null,
      "outputs": []
    },
    {
      "cell_type": "code",
      "source": [
        "df_tratado['ConsumoSalExcesso'].unique()"
      ],
      "metadata": {
        "id": "j177PkFcKSNO"
      },
      "execution_count": null,
      "outputs": []
    },
    {
      "cell_type": "code",
      "source": [
        "#Exclusão do grupo Saúde Cardiovascular\n",
        "df_tratado = df_tratado.drop(columns=['HAREHAB1','STREHAB1','CVDASPRN','ASPUNSAF',\n",
        "                                      'RLIVPAIN','RDUCHART','RDUCSTRK'])\n",
        "\n",
        "#Exclusão do grupo Contexto social\n",
        "df_tratado = df_tratado.drop(columns=['SCNTMNY1','SCNTMEL1','SCNTPAID','SCNTWRK1',\n",
        "                                      'SCNTLPAD','SCNTLWK1'])"
      ],
      "metadata": {
        "id": "8qHKI-6ML9mN"
      },
      "execution_count": null,
      "outputs": []
    },
    {
      "cell_type": "code",
      "source": [
        "#Avaliar e redefir variáveis do Grupo Suporte Emocional e Satisfação com a Vida\n",
        "#Removido campo EMTSUPRT\n",
        "df_tratado = df_tratado.drop(columns=['EMTSUPRT'])\n",
        "\n",
        "#Limpeza do campo LSATISFY: 0 - Não satisfeito com a vida, 1 - Satisfeito com a vida\n",
        "df_tratado['LSATISFY'] = df_tratado['LSATISFY'].replace({2:1})\n",
        "df_tratado['LSATISFY'] = df_tratado['LSATISFY'].replace({3:0})\n",
        "df_tratado['LSATISFY'] = df_tratado['LSATISFY'].replace({4:0})\n",
        "df_tratado = df_tratado[df_tratado.LSATISFY != 7]\n",
        "df_tratado = df_tratado[df_tratado.LSATISFY != 9]\n",
        "\n",
        "#Renomeado campo para facilitar compreensão\n",
        "df_tratado = df_tratado.rename(columns = {'LSATISFY':'SatisfacaoVida'}) "
      ],
      "metadata": {
        "id": "lZ7vHweoLN3R"
      },
      "execution_count": null,
      "outputs": []
    },
    {
      "cell_type": "code",
      "source": [
        "df_tratado['SatisfacaoVida'].unique()"
      ],
      "metadata": {
        "id": "7gBPZWT1MTvL"
      },
      "execution_count": null,
      "outputs": []
    },
    {
      "cell_type": "code",
      "source": [
        "#Exclusão do grupo Ansiedade e Depressão\n",
        "df_tratado = df_tratado.drop(columns=['ADPLEASR','ADDOWN','ADSLEEP','ADENERGY',\n",
        "                                      'ADEAT1','ADEAT1','ADFAIL','ADTHINK','ADMOVE',\n",
        "                                      'MISTMNT','ADANXEV'])\n",
        "\n",
        "#Exclusão do grupo Exercício (Atividade Física)\n",
        "df_tratado = df_tratado.drop(columns=['EXACTOT1','EXACTOT2'])\n"
      ],
      "metadata": {
        "id": "OKwnyPHBNKFT"
      },
      "execution_count": null,
      "outputs": []
    },
    {
      "cell_type": "code",
      "source": [
        "#Avaliar e redefir variáveis do Grupo Variáveis Calculadas\n",
        "\n",
        "#Limpeza do campo _AGEG5YR\n",
        "#Variável divide as idades em 1 grupos:\n",
        "#18 a 24 - 25 a 29 - 30 a 34 - 35 a 39 - 40 a 44 - 45 a 49\n",
        "#50 a 54 - 55 a 59 - 60 a 64 - 65 a 69 - 70 a 74 - 75 a 79\n",
        "#80 ou mais \n",
        "\n",
        "df_tratado = df_tratado[df_tratado._AGEG5YR != 14]\n",
        "\n",
        "#Limpeza do campo _BMI5CAT\n",
        "#Variável dividida em 4 grupos: 1 - Subpeso / 2 - Peso normal / 3 - Sobrepeso / 4 - Obeso\n",
        "\n",
        "#Renomeado campo para facilitar compreensão\n",
        "df_tratado = df_tratado.rename(columns = {'_AGEG5YR':'FaixaIdade', '_BMI5CAT':'IMC'})"
      ],
      "metadata": {
        "id": "AfS2zFRQkCdT"
      },
      "execution_count": null,
      "outputs": []
    },
    {
      "cell_type": "code",
      "source": [
        "df_tratado['FaixaIdade'].unique()"
      ],
      "metadata": {
        "id": "dEAIToQqr88l"
      },
      "execution_count": null,
      "outputs": []
    },
    {
      "cell_type": "code",
      "source": [
        "df_tratado['IMC'].unique()"
      ],
      "metadata": {
        "id": "A1_RXnqSr-ZX"
      },
      "execution_count": null,
      "outputs": []
    },
    {
      "cell_type": "code",
      "source": [
        "#Exclusão do grupo Variáveis Calculadas\n",
        "df_tratado = df_tratado.drop(columns=['_RFHLTH','_HCVU651','_RFHYPE5','_CHOLCHK',\n",
        "                                      '_RFCHOL','_LTASTH1','_CASTHM1','_ASTHMS1',\n",
        "                                      '_DRDXAR1'])\n",
        "df_tratado = df_tratado.drop(columns=['_AGE65YR','_AGE80','_AGE_G','HTIN4','HTM4',\n",
        "                                      'WTKG3'])\n",
        "df_tratado = df_tratado.drop(columns=['_BMI5','_RFBMI5','_CHLDCNT','_EDUCAG','_INCOMG'])\n",
        "df_tratado = df_tratado.drop(columns=['_RFSMOK3','DRNKANY5','DROCDY3_','_RFBING5',\n",
        "                                      '_DRNKWEK','FTJUDA1_'])\n",
        "df_tratado = df_tratado.drop(columns=['FRUTDA1_','BEANDAY_','GRENDAY_','ORNGDAY_',\n",
        "                                      'VEGEDA1_','_MISFRTN','_MISVEGN'])\n",
        "df_tratado = df_tratado.drop(columns=['_FRTRESP','_VEGRESP','_FRUTSUM','_VEGESUM',\n",
        "                                      '_FRT16'])\n",
        "df_tratado = df_tratado.drop(columns=['_VEG23','_FRUITEX','_VEGETEX','_TOTINDA',\n",
        "                                      'METVL11_','METVL21_','MAXVO2_'])\n",
        "df_tratado = df_tratado.drop(columns=['FC60_','ACTIN11_','ACTIN21_','PADUR1_',\n",
        "                                      'PADUR2_','PAFREQ1_','PAFREQ2_'])\n",
        "df_tratado = df_tratado.drop(columns=['_MINAC11','_MINAC21','STRFREQ_','PAMISS1_',\n",
        "                                      'PAMIN11_','PAMIN21_','PA1MIN_'])\n",
        "df_tratado = df_tratado.drop(columns=['PAVIG11_','PAVIG21_','PA1VIGM_','_PACAT1',\n",
        "                                      '_PAINDX1','_PA150R2','_PA300R2'])\n",
        "df_tratado = df_tratado.drop(columns=['_PA30021','_PASTRNG','_PASTAE1','_LMTACT1',\n",
        "                                      '_LMTWRK1','_LMTSCL1'])\n",
        "df_tratado = df_tratado.drop(columns=['_RFSEAT2','_RFSEAT3','_FLSHOT6','_PNEUMO2',\n",
        "                                      '_AIDTST3'])"
      ],
      "metadata": {
        "id": "EdHmwCQ7nI8-"
      },
      "execution_count": null,
      "outputs": []
    },
    {
      "cell_type": "code",
      "source": [
        "df_tratado.shape"
      ],
      "metadata": {
        "id": "BNB9-W71nR7V"
      },
      "execution_count": null,
      "outputs": []
    },
    {
      "cell_type": "code",
      "source": [
        "df_tratado.isnull().sum()"
      ],
      "metadata": {
        "id": "eWZ1oVekvLZ8"
      },
      "execution_count": null,
      "outputs": []
    },
    {
      "cell_type": "code",
      "source": [
        "#Removido as colunas que tem muitos atributos nulos \n",
        "df_tratado = df_tratado.drop(columns=['Asma','DeclinioCognitivo',\n",
        "                                      'ConsumoSalExcesso','SatisfacaoVida']) \n",
        "#Em seguida retirado os valores nulos que restaram no data set\n",
        "df_tratado = df_tratado.dropna()\n",
        "df_tratado.shape"
      ],
      "metadata": {
        "id": "-LE3sycavuLs"
      },
      "execution_count": null,
      "outputs": []
    },
    {
      "cell_type": "code",
      "source": [
        "df_tratado.head()"
      ],
      "metadata": {
        "id": "w-o9UbLpvuRQ"
      },
      "execution_count": null,
      "outputs": []
    },
    {
      "cell_type": "code",
      "source": [
        "#Após verificação do dataframe, a coluna DoencaCardiovascular será movida \n",
        "#para a última posição #por se tratar do campo alvo a ser classificado\n",
        "\n",
        "ultima_coluna = df_tratado.pop('DoencaCardiovascular')\n",
        "df_tratado.insert(21, 'DoencaCardiovascular', ultima_coluna)"
      ],
      "metadata": {
        "id": "tpqDgPSfvQF8"
      },
      "execution_count": null,
      "outputs": []
    },
    {
      "cell_type": "code",
      "source": [
        "df_tratado.isnull().sum()"
      ],
      "metadata": {
        "id": "zpt1Hkazik0I"
      },
      "execution_count": null,
      "outputs": []
    },
    {
      "cell_type": "code",
      "source": [
        "df_tratado.head()"
      ],
      "metadata": {
        "id": "yAFLKstAnKHt"
      },
      "execution_count": null,
      "outputs": []
    },
    {
      "cell_type": "markdown",
      "source": [
        "# **Análise e Exploração dos Dados**"
      ],
      "metadata": {
        "id": "59py5nDTiEuF"
      }
    },
    {
      "cell_type": "code",
      "source": [
        "#Imports para exploração dos dados\n",
        "import matplotlib.pyplot as plt"
      ],
      "metadata": {
        "id": "j97Nchp_pMvP"
      },
      "execution_count": null,
      "outputs": []
    },
    {
      "cell_type": "code",
      "source": [
        "df_tratado.describe()"
      ],
      "metadata": {
        "id": "YlqaCwySi7l8"
      },
      "execution_count": null,
      "outputs": []
    },
    {
      "cell_type": "code",
      "source": [
        "ax = df_tratado['DoencaCardiovascular'].value_counts(normalize=True).plot(kind='bar')\n",
        "ax.set_title('Percentual de casos Negativos e Positivos', fontsize=14)\n",
        "ax.set_xlabel('DoencaCardiovascular', fontsize=14)\n",
        "ax.set_ylabel('%', fontsize=14)"
      ],
      "metadata": {
        "id": "EcyvWL2GzmvS"
      },
      "execution_count": null,
      "outputs": []
    },
    {
      "cell_type": "code",
      "source": [
        "ax = df_tratado['FaixaIdade'].value_counts(normalize=True).plot(kind='bar')\n",
        "ax.set_title('Faixa de Idade', fontsize=14)\n",
        "ax.set_xlabel('Faixa de Idade', fontsize=14)\n",
        "ax.set_ylabel('%', fontsize=14)"
      ],
      "metadata": {
        "id": "bzt0iV6xHCBX"
      },
      "execution_count": null,
      "outputs": []
    },
    {
      "cell_type": "code",
      "source": [
        "#Correlação entre todos os campos DoencaCardiovascular com os demais\n",
        "corr = df_tratado.corr(method='pearson')\n",
        "corr"
      ],
      "metadata": {
        "id": "vS9rQYWzsd1i"
      },
      "execution_count": null,
      "outputs": []
    },
    {
      "cell_type": "code",
      "source": [
        "#Correlação entre o campo DoencaCardiovascular e os demais\n",
        "corr['DoencaCardiovascular']"
      ],
      "metadata": {
        "id": "4rCuuFN7ttDJ"
      },
      "execution_count": null,
      "outputs": []
    },
    {
      "cell_type": "markdown",
      "source": [
        "# **Desenvolvimento dos modelos de classificação**\n"
      ],
      "metadata": {
        "id": "_rD5gu3tm5EN"
      }
    },
    {
      "cell_type": "code",
      "source": [
        "#Preparação para execução dos modelos\n",
        "\n",
        "#Divisão dos dados em treinamento (70%) e teste (30%), e import do método cross validation\n",
        "from sklearn.model_selection import train_test_split, cross_val_score\n",
        "\n",
        "X = df_tratado.drop(columns=['DoencaCardiovascular'])\n",
        "y = df_tratado['DoencaCardiovascular']\n",
        "\n",
        "X_train, X_test, y_train, y_test = train_test_split(X, y, test_size=0.3, random_state=0)\n",
        "\n",
        "#Import das métricas de avaliação\n",
        "from sklearn import metrics\n",
        "from sklearn.metrics import accuracy_score, classification_report\n",
        "from sklearn.metrics import confusion_matrix, plot_confusion_matrix"
      ],
      "metadata": {
        "id": "i3pifqt2I77q"
      },
      "execution_count": null,
      "outputs": []
    },
    {
      "cell_type": "markdown",
      "source": [
        "**Árvore de Decisão**"
      ],
      "metadata": {
        "id": "hrPODf9ixCBq"
      }
    },
    {
      "cell_type": "code",
      "source": [
        "from sklearn.tree import DecisionTreeClassifier\n",
        "\n",
        "arvoreDecisao = DecisionTreeClassifier(max_depth=40,random_state=0)\n",
        "arvoreDecisao = arvoreDecisao.fit(X_train, y_train)\n",
        "print(\"Acurácia de treinamento:\", arvoreDecisao.score(X_train, y_train))\n",
        "\n",
        "arvoreDecisao_pred = arvoreDecisao.predict(X_test)\n",
        "print(\"Acurácia de previsão:\", accuracy_score(y_test, arvoreDecisao_pred))\n",
        "print(\"\\n\",classification_report(y_test, arvoreDecisao_pred))\n",
        "\n",
        "#Calcula a matriz de confusão\n",
        "cnf_matriz = confusion_matrix(y_test, arvoreDecisao_pred)\n",
        "print(\"Matriz de Confusão:\\n\",cnf_matriz)"
      ],
      "metadata": {
        "id": "Jm_Vuu4Boz08"
      },
      "execution_count": null,
      "outputs": []
    },
    {
      "cell_type": "code",
      "source": [
        "from sklearn.model_selection import GridSearchCV\n",
        "\n",
        "params={'criterion':('gini', 'entropy'), 'min_samples_leaf':[1,2,3,4]}\n",
        "arvoreDecisao_grid = GridSearchCV(arvoreDecisao, param_grid=params)\n",
        "\n",
        "arvoreDecisao_grid_pred = arvoreDecisao_grid.fit(X_train, y_train).predict(X_test)\n",
        "print(\"Arvore de decisao com GridSearch\")\n",
        "print(\"\\nAcurácia de treinamento:\", arvoreDecisao_grid.score(X_train, y_train))\n",
        "print(\"Acurácia de previsão:\", accuracy_score(y_test, arvoreDecisao_grid_pred))\n",
        "print(\"\\nOs melhores parametros enconstrados pelo GridSearch:\")\n",
        "print(arvoreDecisao_grid.best_params_,'\\n')\n",
        "\n",
        "print(classification_report(y_test, arvoreDecisao_grid_pred))\n",
        "\n",
        "#Calcula a matriz de confusão\n",
        "cnf_matriz = confusion_matrix(y_test, arvoreDecisao_grid_pred)\n",
        "print(\"Matriz de Confusão:\\n\",cnf_matriz)"
      ],
      "metadata": {
        "id": "8TxGZH99rWzL"
      },
      "execution_count": null,
      "outputs": []
    },
    {
      "cell_type": "markdown",
      "source": [
        "**XGBoost**"
      ],
      "metadata": {
        "id": "CEgY9Wrf3Akx"
      }
    },
    {
      "cell_type": "code",
      "source": [
        "from xgboost import XGBClassifier\n",
        "\n",
        "XGB = XGBClassifier(max_depth=30, learning_rate=0.3, subsample=0.5, scale_pos_weight=2)\n",
        "XGB = XGB.fit(X_train, y_train)\n",
        "XGB_pred = XGB.predict(X_test)\n",
        "\n",
        "print(\"\\nAcurácia de treinamento:\", XGB.score(X_train, y_train))\n",
        "print(\"Acurácia de previsão:\", accuracy_score(y_test, XGB_pred))\n",
        "print(\"\\nResultados para modelo \\n\")\n",
        "print(classification_report(y_test, XGB_pred))\n",
        "\n",
        "#Calcula a matriz de confusão\n",
        "cnf_matriz = confusion_matrix(y_test, XGB_pred)\n",
        "print(\"Matriz de Confusão:\\n\",cnf_matriz)"
      ],
      "metadata": {
        "id": "08LmuyksV7-U"
      },
      "execution_count": null,
      "outputs": []
    },
    {
      "cell_type": "markdown",
      "source": [
        "**Regressão Logistica**"
      ],
      "metadata": {
        "id": "YrUb2sAgXw29"
      }
    },
    {
      "cell_type": "code",
      "source": [
        "from sklearn.linear_model import LogisticRegression\n",
        "\n",
        "reg_log = LogisticRegression(penalty='none', class_weight=None, solver='lbfgs', random_state=None, max_iter=380)\n",
        "reg_log.fit(X_train, y_train)\n",
        "reg_log_pred = reg_log.predict(X_test)\n",
        "\n",
        "print(\"\\nAcurácia de treinamento:\", reg_log.score(X_train, y_train))\n",
        "print(\"Acurácia de previsão:\", accuracy_score(y_test, reg_log_pred))\n",
        "print(\"\\nResultados para modelo\\n\")\n",
        "print(classification_report(y_test, reg_log_pred))\n",
        "\n",
        "#Calcula a matriz de confusão\n",
        "cnf_matriz = confusion_matrix(y_test, reg_log_pred)\n",
        "print(cnf_matriz)"
      ],
      "metadata": {
        "id": "wqMZtIYNXpRn"
      },
      "execution_count": null,
      "outputs": []
    },
    {
      "cell_type": "markdown",
      "source": [
        "# **Balanceamento dos Dados**"
      ],
      "metadata": {
        "id": "4n14MFV7awdX"
      }
    },
    {
      "cell_type": "markdown",
      "source": [
        "**Undersampling** – Consiste em reduzir de forma aleatória os exemplos da classe majoritária."
      ],
      "metadata": {
        "id": "Un6ZGjpjKVTR"
      }
    },
    {
      "cell_type": "code",
      "source": [
        "from imblearn.under_sampling import RandomUnderSampler\n",
        "import seaborn as sns\n",
        "\n",
        "# Random UnderSampler\n",
        "rus = RandomUnderSampler()\n",
        "X_train_rus, y_train_rus = rus.fit_resample(X_train, y_train)\n",
        "\n",
        "# Checar o balanceamento das classes\n",
        "print(\"Quantidade de valores no dataset:\\n\")\n",
        "print(pd.Series(y_train_rus).value_counts())\n",
        "\n",
        "# Plotar a nova distribuição de Classes\n",
        "print(\"\\nDistribuição de valores no dataset:\\n\")\n",
        "sns.countplot(y_train_rus);"
      ],
      "metadata": {
        "id": "H53O0wHALdAo"
      },
      "execution_count": null,
      "outputs": []
    },
    {
      "cell_type": "markdown",
      "source": [
        "**Oversampling** – Consiste em replicar dados aleatórios da classe minoritária. Como estamos duplicando os dados já existentes este método está propício a dar overfitting\n"
      ],
      "metadata": {
        "id": "QNsVyR3yKxn7"
      }
    },
    {
      "cell_type": "code",
      "source": [
        "from imblearn.over_sampling import RandomOverSampler\n",
        "\n",
        "# Random OverSampler\n",
        "ros = RandomOverSampler(random_state = 32)\n",
        "X_train_ros, y_train_ros = ros.fit_resample(X, y)\n",
        "\n",
        "# Checar o balanceamento das classes\n",
        "print(\"Quantidade de valores no dataset:\\n\")\n",
        "print(pd.Series(y_train_ros).value_counts())\n",
        "\n",
        "# Plotar a nova distribuição de Classes\n",
        "print(\"\\nDistribuição de valores no dataset:\\n\")\n",
        "sns.countplot(y_train_ros);"
      ],
      "metadata": {
        "id": "zCeRG51GK5nB"
      },
      "execution_count": null,
      "outputs": []
    },
    {
      "cell_type": "markdown",
      "source": [
        "**Smote** – Consiste em gerar dados sintéticos (não duplicados) da classe minoritária a partir de vizinhos."
      ],
      "metadata": {
        "id": "3lDIWQdDK2Vw"
      }
    },
    {
      "cell_type": "code",
      "source": [
        "from imblearn.over_sampling import SMOTE\n",
        "\n",
        "#SMOTE\n",
        "smote = SMOTE(random_state = 32)\n",
        "X_train_smote, y_train_smote = smote.fit_resample(X, y)\n",
        "\n",
        "# Checar o balanceamento das classes\n",
        "print(\"Quantidade de valores no dataset:\\n\")\n",
        "print(pd.Series(y_train_smote).value_counts())\n",
        "\n",
        "# Plotar a nova distribuição de Classes\n",
        "print(\"\\nDistribuição de valores no dataset:\\n\")\n",
        "sns.countplot(y_train_smote);"
      ],
      "metadata": {
        "id": "sP2C_H-zK47q"
      },
      "execution_count": null,
      "outputs": []
    },
    {
      "cell_type": "markdown",
      "source": [
        "# **Modelos de Classificação com base de dados balanceada**"
      ],
      "metadata": {
        "id": "0qBaBcI9R5Aq"
      }
    },
    {
      "cell_type": "markdown",
      "source": [
        "**Árvore de Decisão**"
      ],
      "metadata": {
        "id": "sYV2WMY0SJ6o"
      }
    },
    {
      "cell_type": "code",
      "source": [
        "#Undersampling\n",
        "arvoreDecisao_rus = arvoreDecisao.fit(X_train_rus, y_train_rus)\n",
        "print(\"Acurácia de treinamento:\", arvoreDecisao.score(X_train_rus, y_train_rus))\n",
        "arvoreDecisao_pred_rus = arvoreDecisao.predict(X_test)\n",
        "print(\"Acurácia de previsão:\", accuracy_score(y_test, arvoreDecisao_pred_rus))\n",
        "print(classification_report(y_test, arvoreDecisao_pred_rus))\n",
        "\n",
        "#Calcula a matriz de confusão\n",
        "cnf_matriz = confusion_matrix(y_test, arvoreDecisao_pred_rus)\n",
        "print(cnf_matriz)"
      ],
      "metadata": {
        "id": "hDBSg4MBTcKk"
      },
      "execution_count": null,
      "outputs": []
    },
    {
      "cell_type": "code",
      "source": [
        "#Oversampling\n",
        "arvoreDecisao_ros = arvoreDecisao.fit(X_train_ros, y_train_ros)\n",
        "print(\"Acurácia de treinamento:\", arvoreDecisao.score(X_train_ros, y_train_ros))\n",
        "arvoreDecisao_pred_ros = arvoreDecisao.predict(X_test)\n",
        "print(\"Acurácia de previsão:\", accuracy_score(y_test, arvoreDecisao_pred_ros))\n",
        "print(classification_report(y_test, arvoreDecisao_pred_ros))\n",
        "\n",
        "#Calcula a matriz de confusão\n",
        "cnf_matriz = confusion_matrix(y_test, arvoreDecisao_pred_ros)\n",
        "print(cnf_matriz)"
      ],
      "metadata": {
        "id": "1fuRBQ3SZQ_o"
      },
      "execution_count": null,
      "outputs": []
    },
    {
      "cell_type": "code",
      "source": [
        "#SMOTE\n",
        "arvoreDecisao_smote = arvoreDecisao.fit(X_train_smote, y_train_smote)\n",
        "print(\"Acurácia de treinamento:\", arvoreDecisao.score(X_train_smote, y_train_smote))\n",
        "arvoreDecisao_pred_smote = arvoreDecisao.predict(X_test)\n",
        "print(\"Acurácia de previsão:\", accuracy_score(y_test, arvoreDecisao_pred_smote))\n",
        "print(classification_report(y_test, arvoreDecisao_pred_smote))\n",
        "\n",
        "#Calcula a matriz de confusão\n",
        "cnf_matriz = confusion_matrix(y_test, arvoreDecisao_pred_smote)\n",
        "print(cnf_matriz)"
      ],
      "metadata": {
        "id": "Y1UtYgilZSqm"
      },
      "execution_count": null,
      "outputs": []
    },
    {
      "cell_type": "markdown",
      "source": [
        "**Árvore de Decisão com GridSearchCV**"
      ],
      "metadata": {
        "id": "Bq_dPL0JZWc-"
      }
    },
    {
      "cell_type": "code",
      "source": [
        "#Arvore de Decisão com GridSearchCV\n",
        "params={'criterion':('gini', 'entropy'), 'min_samples_leaf':[1,2,3]}\n",
        "arvoreDecisao_grid = GridSearchCV(arvoreDecisao, param_grid=params)\n",
        "\n",
        "#Undersampling\n",
        "arvoreDecisao_grid_pred_rus = arvoreDecisao_grid.fit(X_train_rus, y_train_rus).predict(X_test)\n",
        "print(\"Arvore de decisao com GridSearch e dados undersamplig\")\n",
        "print(\"\\nAcurácia de treinamento:\", arvoreDecisao_grid.score(X_train_rus, y_train_rus))\n",
        "print(\"Acurácia de previsão:\", accuracy_score(y_test, arvoreDecisao_grid_pred_rus))\n",
        "print(\"\\nOs melhores parametros enconstrados pelo GridSearch:\")\n",
        "print(arvoreDecisao_grid.best_params_,'\\n')\n",
        "print(classification_report(y_test, arvoreDecisao_grid_pred_rus))\n",
        "\n",
        "#Calcula a matriz de confusão\n",
        "cnf_matriz = confusion_matrix(y_test, arvoreDecisao_grid_pred_rus)\n",
        "print(cnf_matriz)"
      ],
      "metadata": {
        "id": "K7yzxLfkTcrQ"
      },
      "execution_count": null,
      "outputs": []
    },
    {
      "cell_type": "code",
      "source": [
        "#Oversampling\n",
        "arvoreDecisao_grid_pred_ros = arvoreDecisao_grid.fit(X_train_ros, y_train_ros).predict(X_test)\n",
        "print(\"Arvore de decisao com GridSearch e dados oversamplig\")\n",
        "print(\"\\nAcurácia de treinamento:\", arvoreDecisao_grid.score(X_train_ros, y_train_ros))\n",
        "print(\"Acurácia de previsão:\", accuracy_score(y_test, arvoreDecisao_grid_pred_ros))\n",
        "print(\"\\nOs melhores parametros enconstrados pelo GridSearch:\")\n",
        "print(arvoreDecisao_grid.best_params_,'\\n')\n",
        "print(classification_report(y_test, arvoreDecisao_grid_pred_ros))\n",
        "\n",
        "#Calcula a matriz de confusão\n",
        "cnf_matriz = confusion_matrix(y_test, arvoreDecisao_grid_pred_ros)\n",
        "print(cnf_matriz)"
      ],
      "metadata": {
        "id": "X_Rmxm8EZFOQ"
      },
      "execution_count": null,
      "outputs": []
    },
    {
      "cell_type": "code",
      "source": [
        "#SMOTE\n",
        "arvoreDecisao_grid_pred_smote = arvoreDecisao_grid.fit(X_train_smote, y_train_smote).predict(X_test)\n",
        "print(\"Arvore de decisao com GridSearch e dados SMOTE\")\n",
        "print(\"\\nAcurácia de treinamento:\", arvoreDecisao_grid.score(X_train_smote, y_train_smote))\n",
        "print(\"Acurácia de previsão:\", accuracy_score(y_test, arvoreDecisao_grid_pred_smote))\n",
        "print(\"\\nOs melhores parametros enconstrados pelo GridSearch:\")\n",
        "print(arvoreDecisao_grid.best_params_,'\\n')\n",
        "print(classification_report(y_test, arvoreDecisao_grid_pred_smote))\n",
        "\n",
        "#Calcula a matriz de confusão\n",
        "cnf_matriz = confusion_matrix(y_test, arvoreDecisao_grid_pred_smote)\n",
        "print(cnf_matriz)"
      ],
      "metadata": {
        "id": "WXjy8o2AZGpv"
      },
      "execution_count": null,
      "outputs": []
    },
    {
      "cell_type": "markdown",
      "source": [
        "**XGBoost**"
      ],
      "metadata": {
        "id": "MGYxyCwWSLSF"
      }
    },
    {
      "cell_type": "code",
      "source": [
        "#Undersampling\n",
        "XGB = XGBClassifier(max_depth=30, learning_rate=0.3, subsample=0.5, scale_pos_weight=1)\n",
        "XGB = XGB.fit(X_train_rus, y_train_rus)\n",
        "XGB_pred_rus = XGB.predict(X_test)\n",
        "\n",
        "print(\"\\nAcurácia de treinamento:\", XGB.score(X_train_rus, y_train_rus))\n",
        "print(\"Acurácia de previsão:\", accuracy_score(y_test, XGB_pred_rus))\n",
        "print(\"\\nResultados para modelo \\n\")\n",
        "print(classification_report(y_test, XGB_pred_rus))\n",
        "\n",
        "#Calcula a matriz de confusão\n",
        "cnf_matriz = confusion_matrix(y_test, XGB_pred_rus)\n",
        "print(\"Matriz de Confusão:\\n\",cnf_matriz)"
      ],
      "metadata": {
        "id": "zV08KKC_iWU9"
      },
      "execution_count": null,
      "outputs": []
    },
    {
      "cell_type": "code",
      "source": [
        "#Oversampling\n",
        "XGB = XGBClassifier(max_depth=30, learning_rate=0.3, subsample=0.5, scale_pos_weight=1)\n",
        "XGB = XGB.fit(X_train_ros, y_train_ros)\n",
        "XGB_pred_ros = XGB.predict(X_test)\n",
        "\n",
        "print(\"\\nAcurácia de treinamento:\", XGB.score(X_train_ros, y_train_ros))\n",
        "print(\"Acurácia de previsão:\", accuracy_score(y_test, XGB_pred_ros))\n",
        "print(\"\\nResultados para modelo \\n\")\n",
        "print(classification_report(y_test, XGB_pred_ros))\n",
        "\n",
        "#Calcula a matriz de confusão\n",
        "cnf_matriz = confusion_matrix(y_test, XGB_pred_ros)\n",
        "print(\"Matriz de Confusão:\\n\",cnf_matriz)"
      ],
      "metadata": {
        "id": "OEVWlvfUiohK"
      },
      "execution_count": null,
      "outputs": []
    },
    {
      "cell_type": "code",
      "source": [
        "#SMOTE\n",
        "XGB = XGBClassifier(max_depth=30, learning_rate=0.3, subsample=0.5, scale_pos_weight=1)\n",
        "XGB = XGB.fit(X_train_smote, y_train_smote)\n",
        "XGB_pred_smote = XGB.predict(X_test)\n",
        "\n",
        "print(\"\\nAcurácia de treinamento:\", XGB.score(X_train_smote, y_train_smote))\n",
        "print(\"Acurácia de previsão:\", accuracy_score(y_test, XGB_pred_smote))\n",
        "print(\"\\nResultados para modelo \\n\")\n",
        "print(classification_report(y_test, XGB_pred_smote))\n",
        "\n",
        "#Calcula a matriz de confusão\n",
        "cnf_matriz = confusion_matrix(y_test, XGB_pred_smote)\n",
        "print(\"Matriz de Confusão:\\n\",cnf_matriz)"
      ],
      "metadata": {
        "id": "z3ifJCrdiouC"
      },
      "execution_count": null,
      "outputs": []
    },
    {
      "cell_type": "markdown",
      "source": [
        "**Regressão Logistica**"
      ],
      "metadata": {
        "id": "FLcerw8DSLfY"
      }
    },
    {
      "cell_type": "code",
      "source": [
        "#Undersampling\n",
        "reg_log = LogisticRegression(penalty='none', class_weight=None, solver='lbfgs', random_state=None, max_iter=380)\n",
        "reg_log.fit(X_train_rus, y_train_rus)\n",
        "reg_log_pred_rus = reg_log.predict(X_test)\n",
        "\n",
        "print(\"\\nAcurácia de treinamento:\", reg_log.score(X_train_rus, y_train_rus))\n",
        "print(\"Acurácia de previsão:\", accuracy_score(y_test, reg_log_pred_rus))\n",
        "print(\"\\nResultados para modelo\\n\")\n",
        "print(classification_report(y_test, reg_log_pred_rus))\n",
        "\n",
        "#Calcula a matriz de confusão\n",
        "cnf_matriz = confusion_matrix(y_test, reg_log_pred_rus)\n",
        "print(cnf_matriz)"
      ],
      "metadata": {
        "id": "lN_nbekeSEa7"
      },
      "execution_count": null,
      "outputs": []
    },
    {
      "cell_type": "code",
      "source": [
        "#Oversampling\n",
        "reg_log = LogisticRegression(penalty='none', class_weight=None, solver='lbfgs', random_state=None, max_iter=380)\n",
        "reg_log.fit(X_train_ros, y_train_ros)\n",
        "reg_log_pred_ros = reg_log.predict(X_test)\n",
        "\n",
        "print(\"\\nAcurácia de treinamento:\", reg_log.score(X_train_ros, y_train_ros))\n",
        "print(\"Acurácia de previsão:\", accuracy_score(y_test, reg_log_pred_ros))\n",
        "print(\"\\nResultados para modelo\\n\")\n",
        "print(classification_report(y_test, reg_log_pred_ros))\n",
        "\n",
        "#Calcula a matriz de confusão\n",
        "cnf_matriz = confusion_matrix(y_test, reg_log_pred_ros)\n",
        "print(cnf_matriz)"
      ],
      "metadata": {
        "id": "2dp8GwgQb7IU"
      },
      "execution_count": null,
      "outputs": []
    },
    {
      "cell_type": "code",
      "source": [
        "#SMOTE\n",
        "reg_log = LogisticRegression(penalty='none', class_weight=None, solver='lbfgs', random_state=None, max_iter=380)\n",
        "reg_log.fit(X_train_smote, y_train_smote)\n",
        "reg_log_pred_smote = reg_log.predict(X_test)\n",
        "\n",
        "print(\"\\nAcurácia de treinamento:\", reg_log.score(X_train_smote, y_train_smote))\n",
        "print(\"Acurácia de previsão:\", accuracy_score(y_test, reg_log_pred_smote))\n",
        "print(\"\\nResultados para modelo\\n\")\n",
        "print(classification_report(y_test, reg_log_pred_smote))\n",
        "\n",
        "#Calcula a matriz de confusão\n",
        "cnf_matriz = confusion_matrix(y_test, reg_log_pred_smote)\n",
        "print(cnf_matriz)"
      ],
      "metadata": {
        "id": "M4-mkmRKb7WS"
      },
      "execution_count": null,
      "outputs": []
    }
  ]
}